{
  "nbformat": 4,
  "nbformat_minor": 0,
  "metadata": {
    "colab": {
      "provenance": [],
      "authorship_tag": "ABX9TyN5Rp9qHwFKCPdZnNAl+2l7",
      "include_colab_link": true
    },
    "kernelspec": {
      "name": "python3",
      "display_name": "Python 3"
    },
    "language_info": {
      "name": "python"
    }
  },
  "cells": [
    {
      "cell_type": "markdown",
      "metadata": {
        "id": "view-in-github",
        "colab_type": "text"
      },
      "source": [
        "<a href=\"https://colab.research.google.com/github/khilav23/WordsRemover/blob/main/Remove.ipynb\" target=\"_parent\"><img src=\"https://colab.research.google.com/assets/colab-badge.svg\" alt=\"Open In Colab\"/></a>"
      ]
    },
    {
      "cell_type": "code",
      "source": [
        "#WORKS\n",
        "def remove_related_lines(text):\n",
        "    lines = text.split('\\n')\n",
        "    related_index = None\n",
        "\n",
        "    # Find the line index containing the word \"Related\"\n",
        "    for i, line in enumerate(lines):\n",
        "        if \"RELATED\" in line:\n",
        "            related_index = i\n",
        "            break\n",
        "\n",
        "    # Remove the line containing \"Related\" and the three lines after it\n",
        "    if related_index is not None:\n",
        "        del lines[related_index:related_index + 3]\n",
        "\n",
        "    # Join the modified lines back into a single string\n",
        "    result_text = '\\n'.join(lines)\n",
        "    return result_text\n",
        "\n",
        "# Example usage\n",
        "user_input = \"\"\"\n",
        "This is a sample text.\n",
        "It contains some lines of text.\n",
        "Related: This is the line with the word \"Related\".\n",
        "This is the first line after the Related line.\n",
        "This is the second line after the Related line.\n",
        "This is the third line after the Related line.\n",
        "This is an unrelated line.\n",
        "\n",
        "\"\"\"\n",
        "\n",
        "modified_text = remove_related_lines(user_input)\n",
        "print(modified_text)\n"
      ],
      "metadata": {
        "colab": {
          "base_uri": "https://localhost:8080/"
        },
        "id": "ixAARRAlpY_a",
        "outputId": "90f61913-4caa-4c57-d7a9-beb219e27fdb"
      },
      "execution_count": 1,
      "outputs": [
        {
          "output_type": "stream",
          "name": "stdout",
          "text": [
            "\n",
            "This is a sample text.\n",
            "It contains some lines of text.\n",
            "Related: This is the line with the word \"Related\".\n",
            "This is the first line after the Related line.\n",
            "This is the second line after the Related line.\n",
            "This is the third line after the Related line.\n",
            "This is an unrelated line.\n",
            "\n",
            "\n"
          ]
        }
      ]
    },
    {
      "cell_type": "markdown",
      "source": [
        "Test Text"
      ],
      "metadata": {
        "id": "JJkXzgjznyPk"
      }
    },
    {
      "cell_type": "code",
      "source": [
        "\"\"\"\n",
        "hello hi hi\n",
        "my name is slim shady\n",
        "Related\n",
        "hello hi\n",
        "hello ho\n",
        "hello hello\n",
        "\"\"\"\n",
        "\n",
        "\"\"\"\n",
        "This is a sample text.\n",
        "It contains some lines of text.\n",
        "Related: This is the line with the word \"Related\".\n",
        "This is the first line after the Related line.\n",
        "This is the second line after the Related line.\n",
        "This is the third line after the Related line.\n",
        "This is an unrelated line.\n",
        "\"\"\""
      ],
      "metadata": {
        "id": "l1kaudLupjJW"
      },
      "execution_count": null,
      "outputs": []
    }
  ]
}